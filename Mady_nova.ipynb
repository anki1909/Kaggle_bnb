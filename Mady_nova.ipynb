{
 "cells": [
  {
   "cell_type": "code",
   "execution_count": 1,
   "metadata": {},
   "outputs": [],
   "source": [
    "import pandas as pd\n",
    "import numpy as np"
   ]
  },
  {
   "cell_type": "code",
   "execution_count": 2,
   "metadata": {},
   "outputs": [],
   "source": [
    "file = open(\"novatxt.txt\", encoding='utf-8')\n",
    "data = file.read()"
   ]
  },
  {
   "cell_type": "code",
   "execution_count": 3,
   "metadata": {},
   "outputs": [
    {
     "data": {
      "text/plain": [
       "'Hatsukaichi 2011-03-20 10:32 5.700 \\nNihonmatsu-Towa-cho 2011-03-20 10:55 4.200 \\nTowa-cho Michino-eki 2011-03-20 11:05 3.100 \\nCrossing of roads no.349 and no.50 2011-03-20 11:30 1.900 \\nSuichu-ji bus stop 2011-03-20 11:42 2.000 \\nJA Tamura Utsushi Branch 2011-03-20 11:57 2.600 \\nBorder between Katsurao village and Tamura city 2011-03-20 12:09 11.700 \\nKuzuo village office 2011-03-20 13:47 11.200 \\nGate of Ogaki-dam management office 2011-03-20 14:31 83.000 \\nBorder between Namie town and Kuzuo village 2011-03-20 14:55 161.000 \\nRoad 50 2011-03-20 15:25 7.200 \\nOnami Primary School 2011-03-22 10:35 9.120 \\nEntry point to Soma city 2011-03-22 11:13 6.500 \\nKawachi Soma-branch 2011-03-22 11:52 0.770 \\nKawachi Soma-branch 2011-03-22 12:00 1.500 \\nTsuruha drug store Kashima-branch 2011-03-22 12:14 1.600 \\nTsuruha drug store Kashima-branch 2011-03-22 12:20 1.600 \\nFresco supermarket 2011-03-22 12:30 1.120 \\nFukushima Matsukawa Interchange 2011-03-22 18:05 3.500 \\nPrefectural road No. 12: Point #1 2011-03-23 09:57 6.900 \\nHatsukaichi 2011-03-23 10:27 2.600 \\nNihonmatsu city Towa branch office 2011-03-23 10:48 2.450 \\nTowa-cho Michino-eki 2011-03-23 11:03 2.300 \\nKassenba no shidare zakura 2011-03-23 11:19 3.300 \\nHaranomachi Station - Minamisoma 2011-03-23 11:45 0.230 \\nNishimuki elementary school 2011-03-23 12:15 0.940 \\nTokiwa elementary school 2011-03-23 12:27 0.900 \\nYamane elementary school 2011-03-23 12:42 1.400 \\nEntry point to Katsurao village 2011-03-23 13:32 4.600 \\nBorder between Katsurao village and Tamura city 2011-03-23 13:53 6.400 \\nJA Tamura Utsushi Branch 2011-03-23 14:45 1.300 \\nSuichu-ji bus stop 2011-03-23 14:58 1.400 \\nCrossing of roads no.349 and no.50 2011-03-23 15:10 1.380 \\nNorth Intersection of Roads no.399 and no.114 2011-03-24 09:56 16.200 \\nRoad 399 2011-03-24 10:14 59.300 \\nCrossing of road 399 and Teshichiro road 2011-03-24 10:46 47.900 \\nYamane elementary school 2011-03-24 10:50 2.200 \\nCrossing of roads 399 and 62 2011-03-24 11:13 21.000 \\nTokiwa elementary school 2011-03-24 12:35 0.850 \\nEntry to Kumamorizan 2011-03-24 12:44 115.000 \\nNishimuki elementary school 2011-03-24 12:45 1.150 \\nHaranomachi Station - Minamisoma 2011-03-24 13:05 0.620 \\nKassenba no shidare zakura 2011-03-24 13:50 3.700 \\nTowa-cho Michino-eki 2011-03-24 13:58 3.700 \\nNihonmatsu city Towa branch office 2011-03-24 14:25 3.000 \\nHatsukaichi 2011-03-24 15:30 3.100 \\nPrefectural road No. 12: Point #1 2011-03-24 16:55 6.900 \\nOnami Primary School 2011-03-25 10:03 5.140 \\nOnami Primary School 2011-03-25 10:08 8.830 \\nEntry point to Soma city 2011-03-25 10:40 4.710 \\nKawachi Soma-branch 2011-03-25 11:20 0.950 \\nKawachi Soma-branch 2011-03-25 11:25 0.730 \\nTsuruha drug store Kashima-branch 2011-03-25 12:15 1.330 \\nTsuruha drug store Kashima-branch 2011-03-25 12:20 1.330 \\nFresco supermarket 2011-03-25 12:30 1.030 \\nSugitsuma Kaikan Fukushima Pref. town hall 2011-03-26 09:15 3.030 \\nSaiso Parking Area 2011-03-26 10:40 0.500 \\nSaiso Parking Area 2011-03-26 10:45 0.600 \\nJR Shinjuku station (Tokyo) 2011-03-26 11:09 0.220 \\nYotsukura Parking Area 2011-03-26 11:25 1.490 \\nYotsukura Parking Area 2011-03-26 11:30 3.040 \\nHirono JR station 2011-03-26 12:00 2.410 \\nUnder Joban highway 2011-03-26 12:20 4.300 \\nJunction between Road no. 249 and no. 35 2011-03-26 12:25 5.170 \\nOtaki Hotel 2011-03-26 12:30 3.720 \\nHirono town hall 2011-03-26 12:45 3.140 \\nJR Mitaka station (Tokyo) 2011-03-26 13:04 0.060 \\nJR Tachikawa station (Tokyo) 2011-03-26 13:35 0.130 \\nJR Hachioji station (Tokyo) 2011-03-26 13:50 0.130 \\nJR Machida station (Tokyo) 2011-03-26 14:36 0.160 \\nKatase Enoshima (Kanagawa) 2011-03-26 16:00 0.080 \\nKatase Enoshima (Kanagawa) 2011-03-26 16:22 0.100 \\nHotel Toyoko inn at Aizuwakamatsu 2011-03-26 16:40 0.330 \\nJR Yokohama station (Kanagawa) 2011-03-26 18:22 0.050 \\nSugitsuma Kaikan Fukushima Pref. town hall 2011-03-27 08:20 2.450 \\nHatsukaichi 2011-03-27 10:38 1.600 \\nJR Kawaguchi station (Saitama) 2011-03-27 10:55 0.100 \\nFamily Home Onukari 2011-03-27 11:01 2.600 \\nFamily Home Onukari 2011-03-27 11:05 7.350 \\nJR Minami-Urawa Station (Saitama) 2011-03-27 11:15 0.150 \\nSouth Intersection of Roads no.399 and no.114 2011-03-27 11:30 17.450 \\nJR Omiya station (Saitama) 2011-03-27 11:41 0.140 \\nEntry from Road no.399 to no.459 2011-03-27 12:12 8.100 \\nNihonmatsu Tazawa elementary school 2011-03-27 12:45 2.250 \\nJR Konosu station (Saitama) 2011-03-27 12:48 0.100 \\nCrossing of roads no.349 and no.50 2011-03-27 13:20 0.900 \\nJA Tamura Utsushi Branch 2011-03-27 13:35 1.390 \\nBorder between Katsurao village and Tamura city 2011-03-27 13:52 6.020 \\nJR Honjo station (Saitama) 2011-03-27 14:30 0.120 \\nSuichu-ji bus stop 2011-03-27 14:30 1.280 \\nJR Takasaki station (Gunma) 2011-03-27 15:16 0.100 \\nSugitsuma Kaikan Fukushima Pref. town hall 2011-03-28 08:20 1.900 \\nHatsukaichi 2011-03-28 09:45 2.080 \\nNihonmatsu city Towa branch office 2011-03-28 10:44 1.850 \\nNihonmatsu city Towa branch office 2011-03-28 10:49 2.300 \\nTowa-cho Michino-eki 2011-03-28 11:10 3.000 \\nKassenba no shidare zakura 2011-03-28 11:25 2.980 \\nCrossing of road no. 349 and no. 50 2011-03-28 11:54 0.800 \\nHaranomachi Station - Minamisoma 2011-03-28 12:13 0.500 \\nNishimuki elementary school 2011-03-28 13:06 0.720 \\nNishimuki elementary school 2011-03-28 13:11 0.850 \\nNishimuki elementary school 2011-03-28 13:16 0.810 \\nTokiwa elementary school 2011-03-28 13:21 0.540 \\nTokiwa elementary school 2011-03-28 13:26 0.700 \\nTokiwa elementary school 2011-03-28 13:31 0.600 \\nYamane elementary school 2011-03-28 13:41 1.750 \\nYamane elementary school 2011-03-28 13:45 1.800 \\nYamane elementary school 2011-03-28 13:51 1.920 \\nCrossing of roads no.349 and no.50 2011-03-28 14:40 1.250 \\nOutside of Kanamachi water purification plant 2011-03-28 14:55 0.130 \\nJR Funabashi station (Chiba) 2011-03-28 16:05 0.120 \\nHotel Toyoko inn at Aizuwakamatsu 2011-03-28 16:20 0.300 \\nHotel Toyoko inn at Aizuwakamatsu 2011-03-28 16:25 0.320 \\nJR Chiba station (Chiba) 2011-03-28 16:46 0.080 \\nSugitsuma Kaikan Fukushima Pref. town hall 2011-03-29 08:15 2.500 \\nOnami Primary School 2011-03-29 09:55 3.800 \\nOnami Primary School 2011-03-29 10:00 6.800 \\nJR Akihabara station (Tokyo) 2011-03-29 10:06 0.120 \\nEntry point to Soma city 2011-03-29 10:58 4.300 \\nTsuruha drug store Kashima-branch 2011-03-29 11:10 0.950 \\nTsuruha drug store Kashima-branch 2011-03-29 11:15 1.460 \\nJR Akabane station (Tokyo) 2011-03-29 11:21 0.100 \\nJR Shinjuku station (Tokyo) 2011-03-29 11:47 0.190 \\nKawachi Soma-branch 2011-03-29 11:50 0.480 \\nJR Shibuya station (Tokyo) 2011-03-29 12:06 0.100 \\nJiyugaoka station (Tokyo) 2011-03-29 12:33 0.100 \\nFresco supermarket 2011-03-29 12:45 0.830 \\nHiyoshi station (Kanagawa) 2011-03-29 12:51 0.020 \\nTsuruha drug store Soma-branch 2011-03-29 13:35 0.610 \\nTsuruha drug store Soma-branch 2011-03-29 13:40 0.930 \\nYokohama port (Kanagawa) 2011-03-29 15:41 0.100 \\nJR Kawasaki station (Kanagawa) 2011-03-29 16:37 0.100 \\nSugitsuma Kaikan Fukushima Pref. town hall 2011-03-30 09:26 2.000 \\nKawamata central park 2011-03-30 10:05 2.150 \\nTobu Asakusa Station (Tokyo) 2011-03-30 10:15 0.020 \\nBorder between Kawamata-city and Iitate-village 2011-03-30 10:20 3.900 \\nIitate Village: Forest outside Iitate 2011-03-30 10:35 14.200 \\nIitate village office 2011-03-30 10:45 6.500 \\nNishi-Arai Station (Tokyo) 2011-03-30 10:55 0.120 \\nIitate village public hall 2011-03-30 10:58 8.200 \\nIitate village public hall 2011-03-30 11:03 12.800 \\nEntry to Ishiporozaka tunnel 2011-03-30 11:10 5.930 \\nJR Minami-Koshigaya Station (Saitama) 2011-03-30 11:14 0.100 \\nJR Minami-Urawa Station (Saitama) 2011-03-30 12:17 0.070 \\nJR Kita-Asaka Station (Saitama) 2011-03-30 12:38 0.060 \\nNarimasu Station (Tokyo) 2011-03-30 13:06 0.060 \\nJR Ikebukuro Statio (Tokyo) 2011-03-30 13:25 0.160 \\nSaiso Parking Area 2011-03-31 08:45 0.520 \\nSaiso Parking Area 2011-03-31 08:50 0.620 \\nYotsukura Parking Area 2011-03-31 09:50 1.350 \\nYotsukura Parking Area 2011-03-31 09:55 2.380 \\nHirono JR station 2011-03-31 10:15 1.530 \\nTsukiji (Tokyo) 2011-03-31 10:17 0.090 \\nUnder Joban highway 2011-03-31 10:55 2.460 \\nUnder Joban highway 2011-03-31 11:00 3.760 \\nJunction between Road no. 249 and no. 35 2011-03-31 11:02 3.710 \\nJunction between Road no. 249 and no. 35 2011-03-31 11:04 4.920 \\nOtaki Hotel 2011-03-31 11:05 2.600 \\nOtaki Hotel 2011-03-31 11:10 4.500 \\nHirono town hall 2011-03-31 11:30 1.650 \\nHirono town hall 2011-03-31 11:35 2.500 \\nKitasenju station (Tokyo) 2011-03-31 12:13 0.200 \\nJR Matsudo station (Chiba) 2011-03-31 12:33 0.280 \\nJR Kashiwa station (Chiba) 2011-03-31 12:55 0.210 \\nJR Tsuchiura station (Ibaraki) 2011-03-31 14:01 0.240 \\nJR Ueno station (Tokyo) 2011-03-31 15:52 0.030 \\nJR Iidabashi station (Tokyo) 2011-03-31 16:22 0.150 \\nPrefectural road No. 12: Point #1 2011-04-01 10:13 2.330 \\nHatsukaichi 2011-04-01 11:03 1.400 \\nNihonmatsu city Towa branch office 2011-04-01 11:41 2.200 \\nTowa-cho Michino-eki 2011-04-01 11:52 1.350 \\nTowa-cho Michino-eki 2011-04-01 11:57 2.600 \\nKassenba no shidare zakura 2011-04-01 12:05 2.000 \\nHaranomachi Station - Minamisoma 2011-04-01 13:02 0.420 \\nHaranomachi Station - Minamisoma 2011-04-01 13:07 0.500 \\nNishimuki elementary school 2011-04-01 13:54 0.510 \\nNishimuki elementary school 2011-04-01 13:56 0.600 \\nNishimuki elementary school 2011-04-01 13:58 0.510 \\nTokiwa elementary school 2011-04-01 14:04 0.560 \\nTokiwa elementary school 2011-04-01 14:06 0.620 \\nTokiwa elementary school 2011-04-01 14:08 0.460 \\nYamane elementary school 2011-04-01 14:21 1.550 \\nYamane elementary school 2011-04-01 14:23 1.340 \\nYamane elementary school 2011-04-01 14:25 1.800 \\nOnami Primary School 2011-04-02 09:32 3.800 \\nOnami Primary School 2011-04-02 09:37 4.500 \\nEntry point to Soma city 2011-04-02 10:55 2.900 \\nEntry point to Soma city 2011-04-02 10:58 4.400 \\nKawachi Soma-branch 2011-04-02 12:16 0.600 \\nKawachi Soma-branch 2011-04-02 12:19 0.920 \\nTsuruha drug store Soma-branch 2011-04-02 12:55 0.900 \\nTsuruha drug store Soma-branch 2011-04-02 12:58 1.000 \\nFresco supermarket 2011-04-02 13:05 0.700 \\nEntry to Ishiporozaka tunnel 2011-04-03 09:15 5.900 \\nIitate village public hall 2011-04-03 09:55 8.400 \\nIitate village public hall 2011-04-03 10:00 9.400 \\nIitate village office 2011-04-03 10:15 5.450 \\nIitate village office 2011-04-03 10:20 8.000 \\nBorder between Kawamata-city and Iitate-village 2011-04-03 10:45 2.800 \\nKawamata central park 2011-04-03 11:10 1.010 \\nKawamata central park 2011-04-03 11:12 2.300 \\nSouth Intersection of Roads no.399 and no.114 2011-04-04 11:00 8.000 \\nSouth Intersection of Roads no.399 and no.114 2011-04-04 11:05 12.500 \\nEntry from Road no.399 to no.459 2011-04-04 11:28 5.200 \\nEntry from Road no.399 to no.459 2011-04-04 11:32 8.400 \\nNihonmatsu Tazawa elementary school 2011-04-04 11:55 1.100 \\nNihonmatsu Tazawa elementary school 2011-04-04 11:58 1.300 \\nCrossing of roads no.349 and no.50 2011-04-04 12:20 0.900 \\nCrossing of roads no.349 and no.50 2011-04-04 12:22 1.000 \\nJA Tamura Utsushi Branch 2011-04-04 12:40 0.700 \\nJA Tamura Utsushi Branch 2011-04-04 12:43 0.700 \\nBorder between Katsurao village and Tamura city 2011-04-04 13:07 4.000 \\nBorder between Katsurao village and Tamura city 2011-04-04 13:09 4.400 \\nSuichu-ji bus stop 2011-04-04 13:45 1.300 \\nSuichu-ji bus stop 2011-04-04 13:48 1.000 \\nGate of Ogaki-dam management office 2011-04-05 11:02 31.000 \\nMinistop Fukushima-Nankodai branch 2011-04-05 11:30 1.800 \\nYamane elementary school 2011-04-05 11:55 1.100 \\nYamane elementary school 2011-04-05 11:57 1.250 \\nYamane elementary school 2011-04-05 11:59 1.300 \\nTokiwa elementary school 2011-04-05 12:30 0.500 \\nTokiwa elementary school 2011-04-05 12:33 0.400 \\nTokiwa elementary school 2011-04-05 12:37 0.400 \\nNishimuki elementary school 2011-04-05 12:43 0.400 \\nNishimuki elementary school 2011-04-05 12:45 0.300 \\nNishimuki elementary school 2011-04-05 12:50 0.700 \\nHaranomachi Station - Minamisoma 2011-04-05 12:59 0.300 \\nHaranomachi Station - Minamisoma 2011-04-05 13:01 0.300 \\nKassenba no shidare zakura 2011-04-05 14:20 1.850 \\nKassenba no shidare zakura 2011-04-05 14:24 2.350 \\nSaiso Parking Area 2011-04-06 08:23 0.350 \\nSaiso Parking Area 2011-04-06 08:25 0.500 \\nYotsukura Parking Area 2011-04-06 08:52 0.700 \\nYotsukura Parking Area 2011-04-06 08:54 1.100 \\nHirono JR station 2011-04-06 09:28 0.850 \\nUnder Joban highway 2011-04-06 10:30 1.550 \\nUnder Joban highway 2011-04-06 10:32 1.650 \\nJunction between Road no. 249 and no. 35 2011-04-06 10:38 2.200 \\nJunction between Road no. 249 and no. 35 2011-04-06 10:40 2.200 \\nOtaki Hotel 2011-04-06 10:50 1.700 \\nOtaki Hotel 2011-04-06 10:52 2.000 \\nHirono town hall 2011-04-06 11:08 1.100 \\nHirono town hall 2011-04-06 11:11 1.500 \\nKotekamimori Bus Stop 2011-04-08 09:20 1.600 \\nFamily Home Onukari 2011-04-08 10:05 3.700 \\nFamily Home Onukari 2011-04-08 10:08 4.300 \\nYamakiyasakai Bus Stop 2011-04-08 10:42 7.500 \\nYamakiyasakai Bus Stop 2011-04-08 10:45 8.800 \\nNorth Intersection of Roads no.399 and no.114 2011-04-08 10:55 9.000 \\nNorth Intersection of Roads no.399 and no.114 2011-04-08 10:58 12.400 \\nCrossing of road 399 and Teshichiro road 2011-04-08 11:12 26.000 \\nCrossing of road 399 and Teshichiro road 2011-04-08 11:15 26.100 \\nSouth Intersection of Roads no.399 and no.114 2011-04-08 11:55 8.300 \\nSouth Intersection of Roads no.399 and no.114 2011-04-08 11:58 11.300 \\nIshii Shoten 2011-04-08 12:12 20.000 \\nIshii Shoten 2011-04-08 12:14 32.200 \\nEntry to Kumamorizan 2011-04-08 12:24 52.000 \\nEntry to Kumamorizan 2011-04-08 12:26 56.000 \\nSugitsuma Kaikan Fukushima Pref. town hall 2011-04-09 08:37 0.950 \\nOnami Primary School 2011-04-09 09:10 2.600 \\nOnami Primary School 2011-04-09 09:15 3.700 \\nEntry point to Soma city 2011-04-09 10:15 1.750 \\nEntry point to Soma city 2011-04-09 10:20 2.750 \\nKawachi Soma-branch 2011-04-09 11:07 0.490 \\nKawachi Soma-branch 2011-04-09 11:09 0.500 \\nTsuruha drug store Kashima-branch 2011-04-09 11:35 0.400 \\nTsuruha drug store Kashima-branch 2011-04-09 11:37 0.900 \\nFresco supermarket 2011-04-09 11:45 0.500 \\nTsuruha drug store Soma-branch 2011-04-09 12:40 0.400 \\nTsuruha drug store Soma-branch 2011-04-09 12:42 0.600 \\nSaiso Parking Area 2011-04-10 09:52 0.400 \\nSaiso Parking Area 2011-04-10 09:55 0.470 \\nYotsukura Parking Area 2011-04-10 10:21 0.400 \\nYotsukura Parking Area 2011-04-10 10:23 0.900 \\nHirono JR station 2011-04-10 10:58 0.800 \\nUnder Joban highway 2011-04-10 11:28 1.000 \\nUnder Joban highway 2011-04-10 11:30 1.400 \\nJunction between Road no. 249 and no. 35 2011-04-10 11:37 1.550 \\nJunction between Road no. 249 and no. 35 2011-04-10 11:39 1.600 \\nOtaki Hotel 2011-04-10 11:45 1.100 \\nOtaki Hotel 2011-04-10 11:47 1.550 \\nHirono town hall 2011-04-10 12:04 1.250 \\nHirono town hall 2011-04-10 12:06 1.300 \\nPrefectural road No. 12: Point #1 2011-04-11 09:55 1.800 \\nPrefectural road No. 12: Point #1 2011-04-11 09:58 2.200 \\nHatsukaichi 2011-04-11 10:40 1.600 \\nHatsukaichi 2011-04-11 10:43 1.300 \\nNihonmatsu city Towa branch office 2011-04-11 11:04 0.900 \\nNihonmatsu city Towa branch office 2011-04-11 11:06 1.400 \\nTowa-cho Michino-eki 2011-04-11 11:20 1.300 \\nTowa-cho Michino-eki 2011-04-11 11:26 1.500 \\nKassenba no shidare zakura 2011-04-11 11:38 1.450 \\nKassenba no shidare zakura 2011-04-11 11:40 1.550 \\nNishimuki elementary school 2011-04-11 12:35 0.300 \\nNishimuki elementary school 2011-04-11 12:39 0.350 \\nNishimuki elementary school 2011-04-11 12:40 0.400 \\nTokiwa elementary school 2011-04-11 12:53 0.300 \\nTokiwa elementary school 2011-04-11 12:55 0.370 \\nTokiwa elementary school 2011-04-11 12:57 0.330 \\nYamane elementary school 2011-04-11 13:12 0.850 \\nYamane elementary school 2011-04-11 13:14 1.020 \\nYamane elementary school 2011-04-11 13:16 1.100 \\nHaranomachi Station - Minamisoma 2011-04-11 14:00 0.200 \\nHaranomachi Station - Minamisoma 2011-04-11 14:02 0.300 '"
      ]
     },
     "execution_count": 3,
     "metadata": {},
     "output_type": "execute_result"
    }
   ],
   "source": [
    "data"
   ]
  },
  {
   "cell_type": "code",
   "execution_count": 4,
   "metadata": {},
   "outputs": [],
   "source": [
    "k5 = data.split('\\n')\n",
    "k6 = []\n",
    "k1= []\n",
    "k2 = []\n",
    "k3 = []\n",
    "k4 = []\n",
    "for enu,i in enumerate(k5) :\n",
    "    k = i.strip().split(' ')\n",
    "    k4.append( ' '.join(k[:-3]))\n",
    "    k1.append(k[-1]) \n",
    "    k2.append(k[-2]) \n",
    "    k3.append(k[-3])\n",
    "    #k6.append(k4)\n",
    "     "
   ]
  },
  {
   "cell_type": "code",
   "execution_count": 5,
   "metadata": {},
   "outputs": [
    {
     "data": {
      "text/plain": [
       "(304, 304, 304, 304)"
      ]
     },
     "execution_count": 5,
     "metadata": {},
     "output_type": "execute_result"
    }
   ],
   "source": [
    "len(k1),len(k2),len(k3),len(k4)"
   ]
  },
  {
   "cell_type": "code",
   "execution_count": 11,
   "metadata": {},
   "outputs": [],
   "source": [
    "pd.DataFrame({'k1':k1,'k2':k2,'k3':k3,'k4':k4}).to_csv('nova_parsed_data.csv')"
   ]
  },
  {
   "cell_type": "code",
   "execution_count": null,
   "metadata": {},
   "outputs": [],
   "source": []
  }
 ],
 "metadata": {
  "kernelspec": {
   "display_name": "Python 3",
   "language": "python",
   "name": "python3"
  },
  "language_info": {
   "codemirror_mode": {
    "name": "ipython",
    "version": 3
   },
   "file_extension": ".py",
   "mimetype": "text/x-python",
   "name": "python",
   "nbconvert_exporter": "python",
   "pygments_lexer": "ipython3",
   "version": "3.7.1"
  }
 },
 "nbformat": 4,
 "nbformat_minor": 2
}
